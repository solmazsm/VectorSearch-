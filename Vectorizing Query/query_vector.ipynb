{
 "cells": [
  {
   "cell_type": "code",
   "execution_count": null,
   "id": "05898e19",
   "metadata": {},
   "outputs": [],
   "source": [
    "def search_content(query, pdf_to_index, k=3):\n",
    "    query_vector = model.encode([query])\n",
    "    faiss.normalize_L2(query_vector)\n",
    "\n",
    "    #set k to limit the number of vectors\n",
    "    top_k = index_content.search(query_vector, k)\n",
    "    ids = top_k[1][0].tolist()\n",
    "    similarities = top_k[0][0].tolist()\n",
    "    results = pdf_to_index.loc[ids]\n",
    "    results[\"similarities\"] = similarities\n",
    "    \n",
    "    ground_truth_labels = np.random.randint(0, 2, size=len(results))\n",
    "    predicted_labels = np.random.randint(0, 2, size=len(results))\n",
    "    \n",
    "    \n",
    "    f1 = f1_score(ground_truth_labels, predicted_labels, zero_division=1)\n",
    "    report = classification_report(ground_truth_labels, predicted_labels, zero_division=1)\n",
    "    \n",
    "    \n",
    "    print(\"F1 Score:\", f1)\n",
    "    print(\"Classification Report:\")\n",
    "    print(report)\n",
    "    \n",
    "    return results\n",
    "\n",
    "\n",
    "search_results = search_content(\"book\", pdf_to_index)"
   ]
  }
 ],
 "metadata": {
  "kernelspec": {
   "display_name": "mysol",
   "language": "python",
   "name": "mysol"
  },
  "language_info": {
   "codemirror_mode": {
    "name": "ipython",
    "version": 3
   },
   "file_extension": ".py",
   "mimetype": "text/x-python",
   "name": "python",
   "nbconvert_exporter": "python",
   "pygments_lexer": "ipython3",
   "version": "3.11.5"
  }
 },
 "nbformat": 4,
 "nbformat_minor": 5
}
