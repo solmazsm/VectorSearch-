{
 "cells": [
  {
   "cell_type": "code",
   "execution_count": null,
   "id": "aa7f87ea",
   "metadata": {},
   "outputs": [],
   "source": [
    "def faiss_benchmark(data_array):\n",
    "    dimension = data_array.shape[1]  # Dimension of the vectors\n",
    "    nlist = 100  # Number of clusters\n",
    "    nprobe = 10  # Number of clusters to explore at query time\n",
    "\n",
    "   \n",
    "    index = faiss.IndexFlatL2(dimension)\n",
    "    quantizer = faiss.IndexFlatL2(dimension)\n",
    "    index = faiss.IndexIVFFlat(quantizer, dimension, nlist)\n",
    "    index.nprobe = nprobe\n",
    "\n",
    "    # Train the index\n",
    "    index.train(data_array)\n",
    "\n",
    "    index.add(data_array)\n",
    "\n",
    "    #query vector\n",
    "    query_vector = np.random.rand(1, dimension).astype(np.float32)\n",
    "\n",
    "   \n",
    "    k = 5  # Number of nearest neighbors to retrieve\n",
    "    distances, indices = index.search(query_vector, k)\n",
    "\n",
    "    return distances, indices\n"
   ]
  }
 ],
 "metadata": {
  "kernelspec": {
   "display_name": "mysol",
   "language": "python",
   "name": "mysol"
  },
  "language_info": {
   "codemirror_mode": {
    "name": "ipython",
    "version": 3
   },
   "file_extension": ".py",
   "mimetype": "text/x-python",
   "name": "python",
   "nbconvert_exporter": "python",
   "pygments_lexer": "ipython3",
   "version": "3.11.5"
  }
 },
 "nbformat": 4,
 "nbformat_minor": 5
}
