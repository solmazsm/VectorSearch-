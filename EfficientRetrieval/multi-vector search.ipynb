{
 "cells": [
  {
   "cell_type": "code",
   "execution_count": null,
   "id": "e358ad71",
   "metadata": {},
   "outputs": [],
   "source": [
    "# multi-vector search\n",
    "def multi_vector_search(queries, index, pdf_to_index, k=3):\n",
    "    results = []\n",
    "    for query_text in queries:\n",
    "        # Encode the query using the model\n",
    "        query_vector = model.encode([query_text])\n",
    "        faiss.normalize_L2(query_vector)\n",
    "\n",
    "        # Perform similarity search\n",
    "        top_k = index.search(query_vector, k)\n",
    "\n",
    "        # Retrieve \n",
    "        ids = top_k[1][0].tolist()\n",
    "        similarities = top_k[0][0].tolist()\n",
    "        docs = pdf_to_index.loc[ids]\n",
    "        docs[\"similarities\"] = similarities\n",
    "        results.append(docs)\n",
    "    return results"
   ]
  }
 ],
 "metadata": {
  "kernelspec": {
   "display_name": "mysol",
   "language": "python",
   "name": "mysol"
  },
  "language_info": {
   "codemirror_mode": {
    "name": "ipython",
    "version": 3
   },
   "file_extension": ".py",
   "mimetype": "text/x-python",
   "name": "python",
   "nbconvert_exporter": "python",
   "pygments_lexer": "ipython3",
   "version": "3.11.5"
  }
 },
 "nbformat": 4,
 "nbformat_minor": 5
}
