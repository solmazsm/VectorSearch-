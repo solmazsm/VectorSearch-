{
 "cells": [
  {
   "cell_type": "code",
   "execution_count": null,
   "id": "0108089a",
   "metadata": {},
   "outputs": [],
   "source": [
    "queries = [\"animal\", \"space\", \"science\"]\n",
    "search_results = multi_vector_search(queries, index_content, pdf_to_index)\n",
    "for idx, query_result in enumerate(search_results):\n",
    "    print(f\"Results for query '{queries[idx]}':\")\n",
    "    print(query_result)\n",
    "    print(\"\\n\")"
   ]
  }
 ],
 "metadata": {
  "kernelspec": {
   "display_name": "mysol",
   "language": "python",
   "name": "mysol"
  },
  "language_info": {
   "codemirror_mode": {
    "name": "ipython",
    "version": 3
   },
   "file_extension": ".py",
   "mimetype": "text/x-python",
   "name": "python",
   "nbconvert_exporter": "python",
   "pygments_lexer": "ipython3",
   "version": "3.11.5"
  }
 },
 "nbformat": 4,
 "nbformat_minor": 5
}
